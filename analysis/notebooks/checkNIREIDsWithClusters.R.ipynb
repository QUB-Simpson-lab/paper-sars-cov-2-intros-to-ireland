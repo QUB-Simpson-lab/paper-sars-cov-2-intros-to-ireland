{
 "cells": [
  {
   "cell_type": "code",
   "execution_count": 17,
   "id": "3fdba75e-9b4e-4ee4-b8c3-b8957cf68ce6",
   "metadata": {},
   "outputs": [],
   "source": [
    "library(reshape2)\n",
    "library(ggplot2)\n",
    "library(cowplot)"
   ]
  },
  {
   "cell_type": "code",
   "execution_count": 7,
   "id": "f05c7712-63a0-4242-9b08-62614eb7778c",
   "metadata": {},
   "outputs": [],
   "source": [
    "IDTypeClusterCount <- read.csv('~/research/irishCovidIntros/analysis/outputFiles/clusters/NorthernIrelandIDTypeClusterSharedWithRoISampleCount.csv')\n",
    "IDTypeClusterCountTable <- dcast(IDTypeClusterCount, type~irish_in_cluster, value.var = \"tip\")\n",
    "rownames(IDTypeClusterCountTable) <- IDTypeClusterCountTable[,1]\n",
    "IDTypeClusterCountTable[,1] <- NULL\n",
    "IDTypeClusterCountTable[is.na(IDTypeClusterCountTable)] <- 0"
   ]
  },
  {
   "cell_type": "code",
   "execution_count": 8,
   "id": "9d755eef-6400-417a-a73d-80d8bf5d33e3",
   "metadata": {},
   "outputs": [
    {
     "data": {
      "text/html": [
       "<table class=\"dataframe\">\n",
       "<caption>A data.frame: 17 × 2</caption>\n",
       "<thead>\n",
       "\t<tr><th></th><th scope=col>N</th><th scope=col>Y</th></tr>\n",
       "\t<tr><th></th><th scope=col>&lt;dbl&gt;</th><th scope=col>&lt;dbl&gt;</th></tr>\n",
       "</thead>\n",
       "<tbody>\n",
       "\t<tr><th scope=row>ALDP</th><td>  15</td><td>   9</td></tr>\n",
       "\t<tr><th scope=row>BRBR</th><td>   6</td><td>   3</td></tr>\n",
       "\t<tr><th scope=row>CAMC</th><td>   3</td><td>   7</td></tr>\n",
       "\t<tr><th scope=row>DHSC</th><td>   1</td><td>   0</td></tr>\n",
       "\t<tr><th scope=row>HSLL</th><td>   3</td><td>   1</td></tr>\n",
       "\t<tr><th scope=row>LSPA</th><td>   3</td><td>   0</td></tr>\n",
       "\t<tr><th scope=row>MILK</th><td>  30</td><td>  13</td></tr>\n",
       "\t<tr><th scope=row>NEWC</th><td>   1</td><td>   2</td></tr>\n",
       "\t<tr><th scope=row>NIRE</th><td>3453</td><td>8254</td></tr>\n",
       "\t<tr><th scope=row>NORT</th><td> 228</td><td> 486</td></tr>\n",
       "\t<tr><th scope=row>NORW</th><td>   1</td><td>   7</td></tr>\n",
       "\t<tr><th scope=row>OXON</th><td>  12</td><td>  31</td></tr>\n",
       "\t<tr><th scope=row>PHEC</th><td> 487</td><td> 134</td></tr>\n",
       "\t<tr><th scope=row>PHWC</th><td>   0</td><td>   5</td></tr>\n",
       "\t<tr><th scope=row>PLYM</th><td>   5</td><td>   1</td></tr>\n",
       "\t<tr><th scope=row>QEUH</th><td>  26</td><td>  41</td></tr>\n",
       "\t<tr><th scope=row>RAND</th><td> 589</td><td>1468</td></tr>\n",
       "</tbody>\n",
       "</table>\n"
      ],
      "text/latex": [
       "A data.frame: 17 × 2\n",
       "\\begin{tabular}{r|ll}\n",
       "  & N & Y\\\\\n",
       "  & <dbl> & <dbl>\\\\\n",
       "\\hline\n",
       "\tALDP &   15 &    9\\\\\n",
       "\tBRBR &    6 &    3\\\\\n",
       "\tCAMC &    3 &    7\\\\\n",
       "\tDHSC &    1 &    0\\\\\n",
       "\tHSLL &    3 &    1\\\\\n",
       "\tLSPA &    3 &    0\\\\\n",
       "\tMILK &   30 &   13\\\\\n",
       "\tNEWC &    1 &    2\\\\\n",
       "\tNIRE & 3453 & 8254\\\\\n",
       "\tNORT &  228 &  486\\\\\n",
       "\tNORW &    1 &    7\\\\\n",
       "\tOXON &   12 &   31\\\\\n",
       "\tPHEC &  487 &  134\\\\\n",
       "\tPHWC &    0 &    5\\\\\n",
       "\tPLYM &    5 &    1\\\\\n",
       "\tQEUH &   26 &   41\\\\\n",
       "\tRAND &  589 & 1468\\\\\n",
       "\\end{tabular}\n"
      ],
      "text/markdown": [
       "\n",
       "A data.frame: 17 × 2\n",
       "\n",
       "| <!--/--> | N &lt;dbl&gt; | Y &lt;dbl&gt; |\n",
       "|---|---|---|\n",
       "| ALDP |   15 |    9 |\n",
       "| BRBR |    6 |    3 |\n",
       "| CAMC |    3 |    7 |\n",
       "| DHSC |    1 |    0 |\n",
       "| HSLL |    3 |    1 |\n",
       "| LSPA |    3 |    0 |\n",
       "| MILK |   30 |   13 |\n",
       "| NEWC |    1 |    2 |\n",
       "| NIRE | 3453 | 8254 |\n",
       "| NORT |  228 |  486 |\n",
       "| NORW |    1 |    7 |\n",
       "| OXON |   12 |   31 |\n",
       "| PHEC |  487 |  134 |\n",
       "| PHWC |    0 |    5 |\n",
       "| PLYM |    5 |    1 |\n",
       "| QEUH |   26 |   41 |\n",
       "| RAND |  589 | 1468 |\n",
       "\n"
      ],
      "text/plain": [
       "     N    Y   \n",
       "ALDP   15    9\n",
       "BRBR    6    3\n",
       "CAMC    3    7\n",
       "DHSC    1    0\n",
       "HSLL    3    1\n",
       "LSPA    3    0\n",
       "MILK   30   13\n",
       "NEWC    1    2\n",
       "NIRE 3453 8254\n",
       "NORT  228  486\n",
       "NORW    1    7\n",
       "OXON   12   31\n",
       "PHEC  487  134\n",
       "PHWC    0    5\n",
       "PLYM    5    1\n",
       "QEUH   26   41\n",
       "RAND  589 1468"
      ]
     },
     "metadata": {},
     "output_type": "display_data"
    }
   ],
   "source": [
    "IDTypeClusterCountTable"
   ]
  },
  {
   "cell_type": "code",
   "execution_count": 9,
   "id": "fb203705-fe5d-4d4f-9670-461057f5decb",
   "metadata": {},
   "outputs": [
    {
     "data": {
      "text/html": [
       "<table class=\"dataframe\">\n",
       "<caption>A data.frame: 8 × 2</caption>\n",
       "<thead>\n",
       "\t<tr><th></th><th scope=col>N</th><th scope=col>Y</th></tr>\n",
       "\t<tr><th></th><th scope=col>&lt;dbl&gt;</th><th scope=col>&lt;dbl&gt;</th></tr>\n",
       "</thead>\n",
       "<tbody>\n",
       "\t<tr><th scope=row>ALDP</th><td>  15</td><td>   9</td></tr>\n",
       "\t<tr><th scope=row>MILK</th><td>  30</td><td>  13</td></tr>\n",
       "\t<tr><th scope=row>NIRE</th><td>3453</td><td>8254</td></tr>\n",
       "\t<tr><th scope=row>NORT</th><td> 228</td><td> 486</td></tr>\n",
       "\t<tr><th scope=row>OXON</th><td>  12</td><td>  31</td></tr>\n",
       "\t<tr><th scope=row>PHEC</th><td> 487</td><td> 134</td></tr>\n",
       "\t<tr><th scope=row>QEUH</th><td>  26</td><td>  41</td></tr>\n",
       "\t<tr><th scope=row>RAND</th><td> 589</td><td>1468</td></tr>\n",
       "</tbody>\n",
       "</table>\n"
      ],
      "text/latex": [
       "A data.frame: 8 × 2\n",
       "\\begin{tabular}{r|ll}\n",
       "  & N & Y\\\\\n",
       "  & <dbl> & <dbl>\\\\\n",
       "\\hline\n",
       "\tALDP &   15 &    9\\\\\n",
       "\tMILK &   30 &   13\\\\\n",
       "\tNIRE & 3453 & 8254\\\\\n",
       "\tNORT &  228 &  486\\\\\n",
       "\tOXON &   12 &   31\\\\\n",
       "\tPHEC &  487 &  134\\\\\n",
       "\tQEUH &   26 &   41\\\\\n",
       "\tRAND &  589 & 1468\\\\\n",
       "\\end{tabular}\n"
      ],
      "text/markdown": [
       "\n",
       "A data.frame: 8 × 2\n",
       "\n",
       "| <!--/--> | N &lt;dbl&gt; | Y &lt;dbl&gt; |\n",
       "|---|---|---|\n",
       "| ALDP |   15 |    9 |\n",
       "| MILK |   30 |   13 |\n",
       "| NIRE | 3453 | 8254 |\n",
       "| NORT |  228 |  486 |\n",
       "| OXON |   12 |   31 |\n",
       "| PHEC |  487 |  134 |\n",
       "| QEUH |   26 |   41 |\n",
       "| RAND |  589 | 1468 |\n",
       "\n"
      ],
      "text/plain": [
       "     N    Y   \n",
       "ALDP   15    9\n",
       "MILK   30   13\n",
       "NIRE 3453 8254\n",
       "NORT  228  486\n",
       "OXON   12   31\n",
       "PHEC  487  134\n",
       "QEUH   26   41\n",
       "RAND  589 1468"
      ]
     },
     "metadata": {},
     "output_type": "display_data"
    }
   ],
   "source": [
    "IDTypeClusterCountTableWithoutSmallSampleSizes <- IDTypeClusterCountTable[IDTypeClusterCountTable$N+IDTypeClusterCountTable$Y > 15, ]\n",
    "IDTypeClusterCountTableWithoutSmallSampleSizes"
   ]
  },
  {
   "cell_type": "code",
   "execution_count": 10,
   "id": "5c3a5266-de55-4484-9545-db5e1d4e29c8",
   "metadata": {},
   "outputs": [
    {
     "data": {
      "text/plain": [
       "\n",
       "\tPearson's Chi-squared test\n",
       "\n",
       "data:  IDTypeClusterCountTableWithoutSmallSampleSizes\n",
       "X-squared = 702.68, df = 7, p-value < 2.2e-16\n"
      ]
     },
     "metadata": {},
     "output_type": "display_data"
    },
    {
     "data": {
      "text/html": [
       "<table class=\"dataframe\">\n",
       "<caption>A matrix: 8 × 2 of type dbl</caption>\n",
       "<thead>\n",
       "\t<tr><th></th><th scope=col>N</th><th scope=col>Y</th></tr>\n",
       "</thead>\n",
       "<tbody>\n",
       "\t<tr><th scope=row>ALDP</th><td>  15</td><td>   9</td></tr>\n",
       "\t<tr><th scope=row>MILK</th><td>  30</td><td>  13</td></tr>\n",
       "\t<tr><th scope=row>NIRE</th><td>3453</td><td>8254</td></tr>\n",
       "\t<tr><th scope=row>NORT</th><td> 228</td><td> 486</td></tr>\n",
       "\t<tr><th scope=row>OXON</th><td>  12</td><td>  31</td></tr>\n",
       "\t<tr><th scope=row>PHEC</th><td> 487</td><td> 134</td></tr>\n",
       "\t<tr><th scope=row>QEUH</th><td>  26</td><td>  41</td></tr>\n",
       "\t<tr><th scope=row>RAND</th><td> 589</td><td>1468</td></tr>\n",
       "</tbody>\n",
       "</table>\n"
      ],
      "text/latex": [
       "A matrix: 8 × 2 of type dbl\n",
       "\\begin{tabular}{r|ll}\n",
       "  & N & Y\\\\\n",
       "\\hline\n",
       "\tALDP &   15 &    9\\\\\n",
       "\tMILK &   30 &   13\\\\\n",
       "\tNIRE & 3453 & 8254\\\\\n",
       "\tNORT &  228 &  486\\\\\n",
       "\tOXON &   12 &   31\\\\\n",
       "\tPHEC &  487 &  134\\\\\n",
       "\tQEUH &   26 &   41\\\\\n",
       "\tRAND &  589 & 1468\\\\\n",
       "\\end{tabular}\n"
      ],
      "text/markdown": [
       "\n",
       "A matrix: 8 × 2 of type dbl\n",
       "\n",
       "| <!--/--> | N | Y |\n",
       "|---|---|---|\n",
       "| ALDP |   15 |    9 |\n",
       "| MILK |   30 |   13 |\n",
       "| NIRE | 3453 | 8254 |\n",
       "| NORT |  228 |  486 |\n",
       "| OXON |   12 |   31 |\n",
       "| PHEC |  487 |  134 |\n",
       "| QEUH |   26 |   41 |\n",
       "| RAND |  589 | 1468 |\n",
       "\n"
      ],
      "text/plain": [
       "     N    Y   \n",
       "ALDP   15    9\n",
       "MILK   30   13\n",
       "NIRE 3453 8254\n",
       "NORT  228  486\n",
       "OXON   12   31\n",
       "PHEC  487  134\n",
       "QEUH   26   41\n",
       "RAND  589 1468"
      ]
     },
     "metadata": {},
     "output_type": "display_data"
    },
    {
     "data": {
      "text/html": [
       "<table class=\"dataframe\">\n",
       "<caption>A matrix: 8 × 2 of type dbl</caption>\n",
       "<thead>\n",
       "\t<tr><th></th><th scope=col>N</th><th scope=col>Y</th></tr>\n",
       "</thead>\n",
       "<tbody>\n",
       "\t<tr><th scope=row>ALDP</th><td>   7.604085</td><td>  16.39592</td></tr>\n",
       "\t<tr><th scope=row>MILK</th><td>  13.623985</td><td>  29.37601</td></tr>\n",
       "\t<tr><th scope=row>NIRE</th><td>3709.209217</td><td>7997.79078</td></tr>\n",
       "\t<tr><th scope=row>NORT</th><td> 226.221524</td><td> 487.77848</td></tr>\n",
       "\t<tr><th scope=row>OXON</th><td>  13.623985</td><td>  29.37601</td></tr>\n",
       "\t<tr><th scope=row>PHEC</th><td> 196.755695</td><td> 424.24430</td></tr>\n",
       "\t<tr><th scope=row>QEUH</th><td>  21.228070</td><td>  45.77193</td></tr>\n",
       "\t<tr><th scope=row>RAND</th><td> 651.733438</td><td>1405.26656</td></tr>\n",
       "</tbody>\n",
       "</table>\n"
      ],
      "text/latex": [
       "A matrix: 8 × 2 of type dbl\n",
       "\\begin{tabular}{r|ll}\n",
       "  & N & Y\\\\\n",
       "\\hline\n",
       "\tALDP &    7.604085 &   16.39592\\\\\n",
       "\tMILK &   13.623985 &   29.37601\\\\\n",
       "\tNIRE & 3709.209217 & 7997.79078\\\\\n",
       "\tNORT &  226.221524 &  487.77848\\\\\n",
       "\tOXON &   13.623985 &   29.37601\\\\\n",
       "\tPHEC &  196.755695 &  424.24430\\\\\n",
       "\tQEUH &   21.228070 &   45.77193\\\\\n",
       "\tRAND &  651.733438 & 1405.26656\\\\\n",
       "\\end{tabular}\n"
      ],
      "text/markdown": [
       "\n",
       "A matrix: 8 × 2 of type dbl\n",
       "\n",
       "| <!--/--> | N | Y |\n",
       "|---|---|---|\n",
       "| ALDP |    7.604085 |   16.39592 |\n",
       "| MILK |   13.623985 |   29.37601 |\n",
       "| NIRE | 3709.209217 | 7997.79078 |\n",
       "| NORT |  226.221524 |  487.77848 |\n",
       "| OXON |   13.623985 |   29.37601 |\n",
       "| PHEC |  196.755695 |  424.24430 |\n",
       "| QEUH |   21.228070 |   45.77193 |\n",
       "| RAND |  651.733438 | 1405.26656 |\n",
       "\n"
      ],
      "text/plain": [
       "     N           Y         \n",
       "ALDP    7.604085   16.39592\n",
       "MILK   13.623985   29.37601\n",
       "NIRE 3709.209217 7997.79078\n",
       "NORT  226.221524  487.77848\n",
       "OXON   13.623985   29.37601\n",
       "PHEC  196.755695  424.24430\n",
       "QEUH   21.228070   45.77193\n",
       "RAND  651.733438 1405.26656"
      ]
     },
     "metadata": {},
     "output_type": "display_data"
    },
    {
     "data": {
      "text/html": [
       "<table class=\"dataframe\">\n",
       "<caption>A matrix: 8 × 2 of type dbl</caption>\n",
       "<thead>\n",
       "\t<tr><th></th><th scope=col>N</th><th scope=col>Y</th></tr>\n",
       "</thead>\n",
       "<tbody>\n",
       "\t<tr><th scope=row>ALDP</th><td>  3.2474888</td><td> -3.2474888</td></tr>\n",
       "\t<tr><th scope=row>MILK</th><td>  5.3753411</td><td> -5.3753411</td></tr>\n",
       "\t<tr><th scope=row>NIRE</th><td>-10.5298801</td><td> 10.5298801</td></tr>\n",
       "\t<tr><th scope=row>NORT</th><td>  0.1465255</td><td> -0.1465255</td></tr>\n",
       "\t<tr><th scope=row>OXON</th><td> -0.5330647</td><td>  0.5330647</td></tr>\n",
       "\t<tr><th scope=row>PHEC</th><td> 25.5593470</td><td>-25.5593470</td></tr>\n",
       "\t<tr><th scope=row>QEUH</th><td>  1.2558306</td><td> -1.2558306</td></tr>\n",
       "\t<tr><th scope=row>RAND</th><td> -3.1960046</td><td>  3.1960046</td></tr>\n",
       "</tbody>\n",
       "</table>\n"
      ],
      "text/latex": [
       "A matrix: 8 × 2 of type dbl\n",
       "\\begin{tabular}{r|ll}\n",
       "  & N & Y\\\\\n",
       "\\hline\n",
       "\tALDP &   3.2474888 &  -3.2474888\\\\\n",
       "\tMILK &   5.3753411 &  -5.3753411\\\\\n",
       "\tNIRE & -10.5298801 &  10.5298801\\\\\n",
       "\tNORT &   0.1465255 &  -0.1465255\\\\\n",
       "\tOXON &  -0.5330647 &   0.5330647\\\\\n",
       "\tPHEC &  25.5593470 & -25.5593470\\\\\n",
       "\tQEUH &   1.2558306 &  -1.2558306\\\\\n",
       "\tRAND &  -3.1960046 &   3.1960046\\\\\n",
       "\\end{tabular}\n"
      ],
      "text/markdown": [
       "\n",
       "A matrix: 8 × 2 of type dbl\n",
       "\n",
       "| <!--/--> | N | Y |\n",
       "|---|---|---|\n",
       "| ALDP |   3.2474888 |  -3.2474888 |\n",
       "| MILK |   5.3753411 |  -5.3753411 |\n",
       "| NIRE | -10.5298801 |  10.5298801 |\n",
       "| NORT |   0.1465255 |  -0.1465255 |\n",
       "| OXON |  -0.5330647 |   0.5330647 |\n",
       "| PHEC |  25.5593470 | -25.5593470 |\n",
       "| QEUH |   1.2558306 |  -1.2558306 |\n",
       "| RAND |  -3.1960046 |   3.1960046 |\n",
       "\n"
      ],
      "text/plain": [
       "     N           Y          \n",
       "ALDP   3.2474888  -3.2474888\n",
       "MILK   5.3753411  -5.3753411\n",
       "NIRE -10.5298801  10.5298801\n",
       "NORT   0.1465255  -0.1465255\n",
       "OXON  -0.5330647   0.5330647\n",
       "PHEC  25.5593470 -25.5593470\n",
       "QEUH   1.2558306  -1.2558306\n",
       "RAND  -3.1960046   3.1960046"
      ]
     },
     "metadata": {},
     "output_type": "display_data"
    }
   ],
   "source": [
    "(Xsq <- chisq.test(IDTypeClusterCountTableWithoutSmallSampleSizes))\n",
    "Xsq$observed\n",
    "Xsq$expected\n",
    "Xsq$stdres"
   ]
  },
  {
   "cell_type": "code",
   "execution_count": 12,
   "id": "89bb53d3-d9c8-4c39-9337-11639d21ddc8",
   "metadata": {},
   "outputs": [
    {
     "data": {
      "text/html": [
       "<table class=\"dataframe\">\n",
       "<caption>A data.frame: 16 × 3</caption>\n",
       "<thead>\n",
       "\t<tr><th scope=col>Var1</th><th scope=col>Var2</th><th scope=col>value</th></tr>\n",
       "\t<tr><th scope=col>&lt;fct&gt;</th><th scope=col>&lt;fct&gt;</th><th scope=col>&lt;dbl&gt;</th></tr>\n",
       "</thead>\n",
       "<tbody>\n",
       "\t<tr><td>ALDP</td><td>N</td><td>  3.2474888</td></tr>\n",
       "\t<tr><td>MILK</td><td>N</td><td>  5.3753411</td></tr>\n",
       "\t<tr><td>NIRE</td><td>N</td><td>-10.5298801</td></tr>\n",
       "\t<tr><td>NORT</td><td>N</td><td>  0.1465255</td></tr>\n",
       "\t<tr><td>OXON</td><td>N</td><td> -0.5330647</td></tr>\n",
       "\t<tr><td>PHEC</td><td>N</td><td> 25.5593470</td></tr>\n",
       "\t<tr><td>QEUH</td><td>N</td><td>  1.2558306</td></tr>\n",
       "\t<tr><td>RAND</td><td>N</td><td> -3.1960046</td></tr>\n",
       "\t<tr><td>ALDP</td><td>Y</td><td> -3.2474888</td></tr>\n",
       "\t<tr><td>MILK</td><td>Y</td><td> -5.3753411</td></tr>\n",
       "\t<tr><td>NIRE</td><td>Y</td><td> 10.5298801</td></tr>\n",
       "\t<tr><td>NORT</td><td>Y</td><td> -0.1465255</td></tr>\n",
       "\t<tr><td>OXON</td><td>Y</td><td>  0.5330647</td></tr>\n",
       "\t<tr><td>PHEC</td><td>Y</td><td>-25.5593470</td></tr>\n",
       "\t<tr><td>QEUH</td><td>Y</td><td> -1.2558306</td></tr>\n",
       "\t<tr><td>RAND</td><td>Y</td><td>  3.1960046</td></tr>\n",
       "</tbody>\n",
       "</table>\n"
      ],
      "text/latex": [
       "A data.frame: 16 × 3\n",
       "\\begin{tabular}{lll}\n",
       " Var1 & Var2 & value\\\\\n",
       " <fct> & <fct> & <dbl>\\\\\n",
       "\\hline\n",
       "\t ALDP & N &   3.2474888\\\\\n",
       "\t MILK & N &   5.3753411\\\\\n",
       "\t NIRE & N & -10.5298801\\\\\n",
       "\t NORT & N &   0.1465255\\\\\n",
       "\t OXON & N &  -0.5330647\\\\\n",
       "\t PHEC & N &  25.5593470\\\\\n",
       "\t QEUH & N &   1.2558306\\\\\n",
       "\t RAND & N &  -3.1960046\\\\\n",
       "\t ALDP & Y &  -3.2474888\\\\\n",
       "\t MILK & Y &  -5.3753411\\\\\n",
       "\t NIRE & Y &  10.5298801\\\\\n",
       "\t NORT & Y &  -0.1465255\\\\\n",
       "\t OXON & Y &   0.5330647\\\\\n",
       "\t PHEC & Y & -25.5593470\\\\\n",
       "\t QEUH & Y &  -1.2558306\\\\\n",
       "\t RAND & Y &   3.1960046\\\\\n",
       "\\end{tabular}\n"
      ],
      "text/markdown": [
       "\n",
       "A data.frame: 16 × 3\n",
       "\n",
       "| Var1 &lt;fct&gt; | Var2 &lt;fct&gt; | value &lt;dbl&gt; |\n",
       "|---|---|---|\n",
       "| ALDP | N |   3.2474888 |\n",
       "| MILK | N |   5.3753411 |\n",
       "| NIRE | N | -10.5298801 |\n",
       "| NORT | N |   0.1465255 |\n",
       "| OXON | N |  -0.5330647 |\n",
       "| PHEC | N |  25.5593470 |\n",
       "| QEUH | N |   1.2558306 |\n",
       "| RAND | N |  -3.1960046 |\n",
       "| ALDP | Y |  -3.2474888 |\n",
       "| MILK | Y |  -5.3753411 |\n",
       "| NIRE | Y |  10.5298801 |\n",
       "| NORT | Y |  -0.1465255 |\n",
       "| OXON | Y |   0.5330647 |\n",
       "| PHEC | Y | -25.5593470 |\n",
       "| QEUH | Y |  -1.2558306 |\n",
       "| RAND | Y |   3.1960046 |\n",
       "\n"
      ],
      "text/plain": [
       "   Var1 Var2 value      \n",
       "1  ALDP N      3.2474888\n",
       "2  MILK N      5.3753411\n",
       "3  NIRE N    -10.5298801\n",
       "4  NORT N      0.1465255\n",
       "5  OXON N     -0.5330647\n",
       "6  PHEC N     25.5593470\n",
       "7  QEUH N      1.2558306\n",
       "8  RAND N     -3.1960046\n",
       "9  ALDP Y     -3.2474888\n",
       "10 MILK Y     -5.3753411\n",
       "11 NIRE Y     10.5298801\n",
       "12 NORT Y     -0.1465255\n",
       "13 OXON Y      0.5330647\n",
       "14 PHEC Y    -25.5593470\n",
       "15 QEUH Y     -1.2558306\n",
       "16 RAND Y      3.1960046"
      ]
     },
     "metadata": {},
     "output_type": "display_data"
    }
   ],
   "source": []
  },
  {
   "cell_type": "code",
   "execution_count": 27,
   "id": "9b4feba8-13ce-45e7-90e3-a454c352635a",
   "metadata": {},
   "outputs": [
    {
     "data": {
      "image/png": "[encoded data removed]",
      "text/plain": [
       "plot without title"
      ]
     },
     "metadata": {
      "image/png": {
       "height": 420,
       "width": 420
      }
     },
     "output_type": "display_data"
    }
   ],
   "source": [
    "stdres_melted <- melt(Xsq$stdres)\n",
    "\n",
    "ggplot(stdres_melted[ which(stdres_melted$Var2=='Y'), ], aes(x = Var1, y = value, fill=Var1)) + geom_col() + theme_cowplot() + geom_hline(yintercept = 2,linetype=\"dotted\") + geom_hline(yintercept = -2,linetype=\"dotted\") + labs(x=\"COG ID\", y=\"Standardized residuals\") + theme(legend.position = 'none')"
   ]
  },
  {
   "cell_type": "markdown",
   "id": "1665ee79-799a-418c-b203-59f7afb70a22",
   "metadata": {},
   "source": [
    "#### Shared with NIRE"
   ]
  },
  {
   "cell_type": "code",
   "execution_count": 29,
   "id": "d4815f1a-48b5-4100-a049-805f419da817",
   "metadata": {},
   "outputs": [],
   "source": [
    "IDTypeClusterCountNIRE <- read.csv('~/research/irishCovidIntros/analysis/outputFiles/clusters/NorthernIrelandIDTypeClusterSharedWithNIRESampleCount.csv')\n",
    "IDTypeClusterCountNIRETable <- dcast(IDTypeClusterCountNIRE, type~NIRE_in_cluster, value.var = \"tip\")\n",
    "rownames(IDTypeClusterCountNIRETable) <- IDTypeClusterCountNIRETable[,1]\n",
    "IDTypeClusterCountNIRETable[,1] <- NULL\n",
    "IDTypeClusterCountNIRETable[is.na(IDTypeClusterCountNIRETable)] <- 0"
   ]
  },
  {
   "cell_type": "code",
   "execution_count": 30,
   "id": "5983bf58-5848-40b3-950b-efc56407d8e7",
   "metadata": {},
   "outputs": [
    {
     "data": {
      "text/html": [
       "<table class=\"dataframe\">\n",
       "<caption>A data.frame: 16 × 2</caption>\n",
       "<thead>\n",
       "\t<tr><th></th><th scope=col>N</th><th scope=col>Y</th></tr>\n",
       "\t<tr><th></th><th scope=col>&lt;dbl&gt;</th><th scope=col>&lt;dbl&gt;</th></tr>\n",
       "</thead>\n",
       "<tbody>\n",
       "\t<tr><th scope=row>ALDP</th><td> 14</td><td>  10</td></tr>\n",
       "\t<tr><th scope=row>BRBR</th><td>  6</td><td>   3</td></tr>\n",
       "\t<tr><th scope=row>CAMC</th><td>  2</td><td>   8</td></tr>\n",
       "\t<tr><th scope=row>DHSC</th><td>  1</td><td>   0</td></tr>\n",
       "\t<tr><th scope=row>HSLL</th><td>  3</td><td>   1</td></tr>\n",
       "\t<tr><th scope=row>LSPA</th><td>  2</td><td>   1</td></tr>\n",
       "\t<tr><th scope=row>MILK</th><td> 23</td><td>  20</td></tr>\n",
       "\t<tr><th scope=row>NEWC</th><td>  0</td><td>   3</td></tr>\n",
       "\t<tr><th scope=row>NORT</th><td> 77</td><td> 637</td></tr>\n",
       "\t<tr><th scope=row>NORW</th><td>  0</td><td>   8</td></tr>\n",
       "\t<tr><th scope=row>OXON</th><td>  6</td><td>  37</td></tr>\n",
       "\t<tr><th scope=row>PHEC</th><td>483</td><td> 138</td></tr>\n",
       "\t<tr><th scope=row>PHWC</th><td>  0</td><td>   5</td></tr>\n",
       "\t<tr><th scope=row>PLYM</th><td>  5</td><td>   1</td></tr>\n",
       "\t<tr><th scope=row>QEUH</th><td> 41</td><td>  26</td></tr>\n",
       "\t<tr><th scope=row>RAND</th><td>264</td><td>1793</td></tr>\n",
       "</tbody>\n",
       "</table>\n"
      ],
      "text/latex": [
       "A data.frame: 16 × 2\n",
       "\\begin{tabular}{r|ll}\n",
       "  & N & Y\\\\\n",
       "  & <dbl> & <dbl>\\\\\n",
       "\\hline\n",
       "\tALDP &  14 &   10\\\\\n",
       "\tBRBR &   6 &    3\\\\\n",
       "\tCAMC &   2 &    8\\\\\n",
       "\tDHSC &   1 &    0\\\\\n",
       "\tHSLL &   3 &    1\\\\\n",
       "\tLSPA &   2 &    1\\\\\n",
       "\tMILK &  23 &   20\\\\\n",
       "\tNEWC &   0 &    3\\\\\n",
       "\tNORT &  77 &  637\\\\\n",
       "\tNORW &   0 &    8\\\\\n",
       "\tOXON &   6 &   37\\\\\n",
       "\tPHEC & 483 &  138\\\\\n",
       "\tPHWC &   0 &    5\\\\\n",
       "\tPLYM &   5 &    1\\\\\n",
       "\tQEUH &  41 &   26\\\\\n",
       "\tRAND & 264 & 1793\\\\\n",
       "\\end{tabular}\n"
      ],
      "text/markdown": [
       "\n",
       "A data.frame: 16 × 2\n",
       "\n",
       "| <!--/--> | N &lt;dbl&gt; | Y &lt;dbl&gt; |\n",
       "|---|---|---|\n",
       "| ALDP |  14 |   10 |\n",
       "| BRBR |   6 |    3 |\n",
       "| CAMC |   2 |    8 |\n",
       "| DHSC |   1 |    0 |\n",
       "| HSLL |   3 |    1 |\n",
       "| LSPA |   2 |    1 |\n",
       "| MILK |  23 |   20 |\n",
       "| NEWC |   0 |    3 |\n",
       "| NORT |  77 |  637 |\n",
       "| NORW |   0 |    8 |\n",
       "| OXON |   6 |   37 |\n",
       "| PHEC | 483 |  138 |\n",
       "| PHWC |   0 |    5 |\n",
       "| PLYM |   5 |    1 |\n",
       "| QEUH |  41 |   26 |\n",
       "| RAND | 264 | 1793 |\n",
       "\n"
      ],
      "text/plain": [
       "     N   Y   \n",
       "ALDP  14   10\n",
       "BRBR   6    3\n",
       "CAMC   2    8\n",
       "DHSC   1    0\n",
       "HSLL   3    1\n",
       "LSPA   2    1\n",
       "MILK  23   20\n",
       "NEWC   0    3\n",
       "NORT  77  637\n",
       "NORW   0    8\n",
       "OXON   6   37\n",
       "PHEC 483  138\n",
       "PHWC   0    5\n",
       "PLYM   5    1\n",
       "QEUH  41   26\n",
       "RAND 264 1793"
      ]
     },
     "metadata": {},
     "output_type": "display_data"
    }
   ],
   "source": [
    "IDTypeClusterCountNIRETable"
   ]
  },
  {
   "cell_type": "code",
   "execution_count": 31,
   "id": "323f6188-2a83-4c87-9b7b-d06b06a13faf",
   "metadata": {},
   "outputs": [
    {
     "data": {
      "text/html": [
       "<table class=\"dataframe\">\n",
       "<caption>A data.frame: 7 × 2</caption>\n",
       "<thead>\n",
       "\t<tr><th></th><th scope=col>N</th><th scope=col>Y</th></tr>\n",
       "\t<tr><th></th><th scope=col>&lt;dbl&gt;</th><th scope=col>&lt;dbl&gt;</th></tr>\n",
       "</thead>\n",
       "<tbody>\n",
       "\t<tr><th scope=row>ALDP</th><td> 14</td><td>  10</td></tr>\n",
       "\t<tr><th scope=row>MILK</th><td> 23</td><td>  20</td></tr>\n",
       "\t<tr><th scope=row>NORT</th><td> 77</td><td> 637</td></tr>\n",
       "\t<tr><th scope=row>OXON</th><td>  6</td><td>  37</td></tr>\n",
       "\t<tr><th scope=row>PHEC</th><td>483</td><td> 138</td></tr>\n",
       "\t<tr><th scope=row>QEUH</th><td> 41</td><td>  26</td></tr>\n",
       "\t<tr><th scope=row>RAND</th><td>264</td><td>1793</td></tr>\n",
       "</tbody>\n",
       "</table>\n"
      ],
      "text/latex": [
       "A data.frame: 7 × 2\n",
       "\\begin{tabular}{r|ll}\n",
       "  & N & Y\\\\\n",
       "  & <dbl> & <dbl>\\\\\n",
       "\\hline\n",
       "\tALDP &  14 &   10\\\\\n",
       "\tMILK &  23 &   20\\\\\n",
       "\tNORT &  77 &  637\\\\\n",
       "\tOXON &   6 &   37\\\\\n",
       "\tPHEC & 483 &  138\\\\\n",
       "\tQEUH &  41 &   26\\\\\n",
       "\tRAND & 264 & 1793\\\\\n",
       "\\end{tabular}\n"
      ],
      "text/markdown": [
       "\n",
       "A data.frame: 7 × 2\n",
       "\n",
       "| <!--/--> | N &lt;dbl&gt; | Y &lt;dbl&gt; |\n",
       "|---|---|---|\n",
       "| ALDP |  14 |   10 |\n",
       "| MILK |  23 |   20 |\n",
       "| NORT |  77 |  637 |\n",
       "| OXON |   6 |   37 |\n",
       "| PHEC | 483 |  138 |\n",
       "| QEUH |  41 |   26 |\n",
       "| RAND | 264 | 1793 |\n",
       "\n"
      ],
      "text/plain": [
       "     N   Y   \n",
       "ALDP  14   10\n",
       "MILK  23   20\n",
       "NORT  77  637\n",
       "OXON   6   37\n",
       "PHEC 483  138\n",
       "QEUH  41   26\n",
       "RAND 264 1793"
      ]
     },
     "metadata": {},
     "output_type": "display_data"
    }
   ],
   "source": [
    "IDTypeClusterCountNIRETableWithoutSmallSampleSizes <- IDTypeClusterCountNIRETable[IDTypeClusterCountNIRETable$N+IDTypeClusterCountNIRETable$Y > 15, ]\n",
    "IDTypeClusterCountNIRETableWithoutSmallSampleSizes"
   ]
  },
  {
   "cell_type": "code",
   "execution_count": 32,
   "id": "1b69fc5c-de49-4948-bad2-81cc40141108",
   "metadata": {},
   "outputs": [
    {
     "data": {
      "text/plain": [
       "\n",
       "\tPearson's Chi-squared test\n",
       "\n",
       "data:  IDTypeClusterCountNIRETableWithoutSmallSampleSizes\n",
       "X-squared = 1229.6, df = 6, p-value < 2.2e-16\n"
      ]
     },
     "metadata": {},
     "output_type": "display_data"
    },
    {
     "data": {
      "text/html": [
       "<table class=\"dataframe\">\n",
       "<caption>A matrix: 7 × 2 of type dbl</caption>\n",
       "<thead>\n",
       "\t<tr><th></th><th scope=col>N</th><th scope=col>Y</th></tr>\n",
       "</thead>\n",
       "<tbody>\n",
       "\t<tr><th scope=row>ALDP</th><td> 14</td><td>  10</td></tr>\n",
       "\t<tr><th scope=row>MILK</th><td> 23</td><td>  20</td></tr>\n",
       "\t<tr><th scope=row>NORT</th><td> 77</td><td> 637</td></tr>\n",
       "\t<tr><th scope=row>OXON</th><td>  6</td><td>  37</td></tr>\n",
       "\t<tr><th scope=row>PHEC</th><td>483</td><td> 138</td></tr>\n",
       "\t<tr><th scope=row>QEUH</th><td> 41</td><td>  26</td></tr>\n",
       "\t<tr><th scope=row>RAND</th><td>264</td><td>1793</td></tr>\n",
       "</tbody>\n",
       "</table>\n"
      ],
      "text/latex": [
       "A matrix: 7 × 2 of type dbl\n",
       "\\begin{tabular}{r|ll}\n",
       "  & N & Y\\\\\n",
       "\\hline\n",
       "\tALDP &  14 &   10\\\\\n",
       "\tMILK &  23 &   20\\\\\n",
       "\tNORT &  77 &  637\\\\\n",
       "\tOXON &   6 &   37\\\\\n",
       "\tPHEC & 483 &  138\\\\\n",
       "\tQEUH &  41 &   26\\\\\n",
       "\tRAND & 264 & 1793\\\\\n",
       "\\end{tabular}\n"
      ],
      "text/markdown": [
       "\n",
       "A matrix: 7 × 2 of type dbl\n",
       "\n",
       "| <!--/--> | N | Y |\n",
       "|---|---|---|\n",
       "| ALDP |  14 |   10 |\n",
       "| MILK |  23 |   20 |\n",
       "| NORT |  77 |  637 |\n",
       "| OXON |   6 |   37 |\n",
       "| PHEC | 483 |  138 |\n",
       "| QEUH |  41 |   26 |\n",
       "| RAND | 264 | 1793 |\n",
       "\n"
      ],
      "text/plain": [
       "     N   Y   \n",
       "ALDP  14   10\n",
       "MILK  23   20\n",
       "NORT  77  637\n",
       "OXON   6   37\n",
       "PHEC 483  138\n",
       "QEUH  41   26\n",
       "RAND 264 1793"
      ]
     },
     "metadata": {},
     "output_type": "display_data"
    },
    {
     "data": {
      "text/html": [
       "<table class=\"dataframe\">\n",
       "<caption>A matrix: 7 × 2 of type dbl</caption>\n",
       "<thead>\n",
       "\t<tr><th></th><th scope=col>N</th><th scope=col>Y</th></tr>\n",
       "</thead>\n",
       "<tbody>\n",
       "\t<tr><th scope=row>ALDP</th><td>  6.105912</td><td>  17.89409</td></tr>\n",
       "\t<tr><th scope=row>MILK</th><td> 10.939759</td><td>  32.06024</td></tr>\n",
       "\t<tr><th scope=row>NORT</th><td>181.650883</td><td> 532.34912</td></tr>\n",
       "\t<tr><th scope=row>OXON</th><td> 10.939759</td><td>  32.06024</td></tr>\n",
       "\t<tr><th scope=row>PHEC</th><td>157.990474</td><td> 463.00953</td></tr>\n",
       "\t<tr><th scope=row>QEUH</th><td> 17.045671</td><td>  49.95433</td></tr>\n",
       "\t<tr><th scope=row>RAND</th><td>523.327543</td><td>1533.67246</td></tr>\n",
       "</tbody>\n",
       "</table>\n"
      ],
      "text/latex": [
       "A matrix: 7 × 2 of type dbl\n",
       "\\begin{tabular}{r|ll}\n",
       "  & N & Y\\\\\n",
       "\\hline\n",
       "\tALDP &   6.105912 &   17.89409\\\\\n",
       "\tMILK &  10.939759 &   32.06024\\\\\n",
       "\tNORT & 181.650883 &  532.34912\\\\\n",
       "\tOXON &  10.939759 &   32.06024\\\\\n",
       "\tPHEC & 157.990474 &  463.00953\\\\\n",
       "\tQEUH &  17.045671 &   49.95433\\\\\n",
       "\tRAND & 523.327543 & 1533.67246\\\\\n",
       "\\end{tabular}\n"
      ],
      "text/markdown": [
       "\n",
       "A matrix: 7 × 2 of type dbl\n",
       "\n",
       "| <!--/--> | N | Y |\n",
       "|---|---|---|\n",
       "| ALDP |   6.105912 |   17.89409 |\n",
       "| MILK |  10.939759 |   32.06024 |\n",
       "| NORT | 181.650883 |  532.34912 |\n",
       "| OXON |  10.939759 |   32.06024 |\n",
       "| PHEC | 157.990474 |  463.00953 |\n",
       "| QEUH |  17.045671 |   49.95433 |\n",
       "| RAND | 523.327543 | 1533.67246 |\n",
       "\n"
      ],
      "text/plain": [
       "     N          Y         \n",
       "ALDP   6.105912   17.89409\n",
       "MILK  10.939759   32.06024\n",
       "NORT 181.650883  532.34912\n",
       "OXON  10.939759   32.06024\n",
       "PHEC 157.990474  463.00953\n",
       "QEUH  17.045671   49.95433\n",
       "RAND 523.327543 1533.67246"
      ]
     },
     "metadata": {},
     "output_type": "display_data"
    },
    {
     "data": {
      "text/html": [
       "<table class=\"dataframe\">\n",
       "<caption>A matrix: 7 × 2 of type dbl</caption>\n",
       "<thead>\n",
       "\t<tr><th></th><th scope=col>N</th><th scope=col>Y</th></tr>\n",
       "</thead>\n",
       "<tbody>\n",
       "\t<tr><th scope=row>ALDP</th><td>  3.712297</td><td> -3.712297</td></tr>\n",
       "\t<tr><th scope=row>MILK</th><td>  4.248495</td><td> -4.248495</td></tr>\n",
       "\t<tr><th scope=row>NORT</th><td>-10.054146</td><td> 10.054146</td></tr>\n",
       "\t<tr><th scope=row>OXON</th><td> -1.740143</td><td>  1.740143</td></tr>\n",
       "\t<tr><th scope=row>PHEC</th><td> 32.948907</td><td>-32.948907</td></tr>\n",
       "\t<tr><th scope=row>QEUH</th><td>  6.783331</td><td> -6.783331</td></tr>\n",
       "\t<tr><th scope=row>RAND</th><td>-20.170193</td><td> 20.170193</td></tr>\n",
       "</tbody>\n",
       "</table>\n"
      ],
      "text/latex": [
       "A matrix: 7 × 2 of type dbl\n",
       "\\begin{tabular}{r|ll}\n",
       "  & N & Y\\\\\n",
       "\\hline\n",
       "\tALDP &   3.712297 &  -3.712297\\\\\n",
       "\tMILK &   4.248495 &  -4.248495\\\\\n",
       "\tNORT & -10.054146 &  10.054146\\\\\n",
       "\tOXON &  -1.740143 &   1.740143\\\\\n",
       "\tPHEC &  32.948907 & -32.948907\\\\\n",
       "\tQEUH &   6.783331 &  -6.783331\\\\\n",
       "\tRAND & -20.170193 &  20.170193\\\\\n",
       "\\end{tabular}\n"
      ],
      "text/markdown": [
       "\n",
       "A matrix: 7 × 2 of type dbl\n",
       "\n",
       "| <!--/--> | N | Y |\n",
       "|---|---|---|\n",
       "| ALDP |   3.712297 |  -3.712297 |\n",
       "| MILK |   4.248495 |  -4.248495 |\n",
       "| NORT | -10.054146 |  10.054146 |\n",
       "| OXON |  -1.740143 |   1.740143 |\n",
       "| PHEC |  32.948907 | -32.948907 |\n",
       "| QEUH |   6.783331 |  -6.783331 |\n",
       "| RAND | -20.170193 |  20.170193 |\n",
       "\n"
      ],
      "text/plain": [
       "     N          Y         \n",
       "ALDP   3.712297  -3.712297\n",
       "MILK   4.248495  -4.248495\n",
       "NORT -10.054146  10.054146\n",
       "OXON  -1.740143   1.740143\n",
       "PHEC  32.948907 -32.948907\n",
       "QEUH   6.783331  -6.783331\n",
       "RAND -20.170193  20.170193"
      ]
     },
     "metadata": {},
     "output_type": "display_data"
    }
   ],
   "source": [
    "(Xsq <- chisq.test(IDTypeClusterCountNIRETableWithoutSmallSampleSizes))\n",
    "Xsq$observed\n",
    "Xsq$expected\n",
    "Xsq$stdres"
   ]
  },
  {
   "cell_type": "code",
   "execution_count": 33,
   "id": "0c1aa51d-9ffd-4f3e-9d68-de00fe75eb0c",
   "metadata": {},
   "outputs": [
    {
     "data": {
      "image/png": "[encoded data removed]",
      "text/plain": [
       "plot without title"
      ]
     },
     "metadata": {
      "image/png": {
       "height": 420,
       "width": 420
      }
     },
     "output_type": "display_data"
    }
   ],
   "source": [
    "stdres_melted <- melt(Xsq$stdres)\n",
    "\n",
    "ggplot(stdres_melted[ which(stdres_melted$Var2=='Y'), ], aes(x = Var1, y = value, fill=Var1)) + geom_col() + theme_cowplot() + geom_hline(yintercept = 2,linetype=\"dotted\") + geom_hline(yintercept = -2,linetype=\"dotted\") + labs(x=\"COG ID\", y=\"Standardized residuals\") + theme(legend.position = 'none')"
   ]
  },
  {
   "cell_type": "code",
   "execution_count": null,
   "id": "1122d2fd-9d22-44f0-a025-f12a93a6793c",
   "metadata": {},
   "outputs": [],
   "source": []
  }
 ],
 "metadata": {
  "kernelspec": {
   "display_name": "R [conda env:irishIntrosR]",
   "language": "R",
   "name": "conda-env-irishIntrosR-r"
  },
  "language_info": {
   "codemirror_mode": "r",
   "file_extension": ".r",
   "mimetype": "text/x-r-source",
   "name": "R",
   "pygments_lexer": "r",
   "version": "4.1.3"
  }
 },
 "nbformat": 4,
 "nbformat_minor": 5
}
